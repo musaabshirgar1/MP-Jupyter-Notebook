{
 "metadata": {
  "language_info": {
   "codemirror_mode": {
    "name": "ipython",
    "version": 3
   },
   "file_extension": ".py",
   "mimetype": "text/x-python",
   "name": "python",
   "nbconvert_exporter": "python",
   "pygments_lexer": "ipython3",
   "version": "3.8.5-final"
  },
  "orig_nbformat": 2,
  "kernelspec": {
   "name": "Python 3.8.5 32-bit",
   "display_name": "Python 3.8.5 32-bit",
   "metadata": {
    "interpreter": {
     "hash": "51e53c73a65f9a46add75a4c0cdd3ab965d6b58b4394bd7f8508c97c33a2a23e"
    }
   }
  }
 },
 "nbformat": 4,
 "nbformat_minor": 2,
 "cells": [
  {
   "cell_type": "code",
   "execution_count": 1,
   "metadata": {},
   "outputs": [
    {
     "output_type": "stream",
     "name": "stdout",
     "text": [
      "Requirement already satisfied: pandas in c:\\users\\nyn\\appdata\\local\\programs\\python\\python38-32\\lib\\site-packages (1.1.1)\n",
      "Requirement already satisfied: numpy>=1.15.4 in c:\\users\\nyn\\appdata\\local\\programs\\python\\python38-32\\lib\\site-packages (from pandas) (1.19.1)\n",
      "Note: you may need to restart the kernel to use updated packages.\n",
      "WARNING: You are using pip version 20.1.1; however, version 20.2.4 is available.\n",
      "You should consider upgrading via the 'C:\\Users\\NYN\\AppData\\Local\\Programs\\Python\\Python38-32\\python.exe -m pip install --upgrade pip' command.\n",
      "Requirement already satisfied: pytz>=2017.2 in c:\\users\\nyn\\appdata\\local\\programs\\python\\python38-32\\lib\\site-packages (from pandas) (2020.1)\n",
      "Requirement already satisfied: python-dateutil>=2.7.3 in c:\\users\\nyn\\appdata\\local\\programs\\python\\python38-32\\lib\\site-packages (from pandas) (2.8.1)\n",
      "Requirement already satisfied: six>=1.5 in c:\\users\\nyn\\appdata\\local\\programs\\python\\python38-32\\lib\\site-packages (from python-dateutil>=2.7.3->pandas) (1.15.0)\n"
     ]
    }
   ],
   "source": [
    "#installing pandas\n",
    "%pip install pandas"
   ]
  },
  {
   "cell_type": "code",
   "execution_count": 23,
   "metadata": {},
   "outputs": [],
   "source": [
    "#importing all the necessary packages\n",
    "import pandas as pd\n",
    "import numpy as np"
   ]
  },
  {
   "cell_type": "code",
   "execution_count": 51,
   "metadata": {},
   "outputs": [],
   "source": [
    "#Creating dataframe\n",
    "df=pd.read_csv('../googleplaystore_user_reviews.csv') "
   ]
  },
  {
   "cell_type": "code",
   "execution_count": 55,
   "metadata": {},
   "outputs": [
    {
     "output_type": "execute_result",
     "data": {
      "text/plain": [
       "                     App                                  Translated_Review  \\\n",
       "0  10 Best Foods for You  I like eat delicious food. That's I'm cooking ...   \n",
       "1  10 Best Foods for You    This help eating healthy exercise regular basis   \n",
       "2  10 Best Foods for You                                                NaN   \n",
       "3  10 Best Foods for You         Works great especially going grocery store   \n",
       "4  10 Best Foods for You                                       Best idea us   \n",
       "\n",
       "  Sentiment  Sentiment_Polarity  Sentiment_Subjectivity  \n",
       "0  Positive                1.00                0.533333  \n",
       "1  Positive                0.25                0.288462  \n",
       "2       NaN                 NaN                     NaN  \n",
       "3  Positive                0.40                0.875000  \n",
       "4  Positive                1.00                0.300000  "
      ],
      "text/html": "<div>\n<style scoped>\n    .dataframe tbody tr th:only-of-type {\n        vertical-align: middle;\n    }\n\n    .dataframe tbody tr th {\n        vertical-align: top;\n    }\n\n    .dataframe thead th {\n        text-align: right;\n    }\n</style>\n<table border=\"1\" class=\"dataframe\">\n  <thead>\n    <tr style=\"text-align: right;\">\n      <th></th>\n      <th>App</th>\n      <th>Translated_Review</th>\n      <th>Sentiment</th>\n      <th>Sentiment_Polarity</th>\n      <th>Sentiment_Subjectivity</th>\n    </tr>\n  </thead>\n  <tbody>\n    <tr>\n      <th>0</th>\n      <td>10 Best Foods for You</td>\n      <td>I like eat delicious food. That's I'm cooking ...</td>\n      <td>Positive</td>\n      <td>1.00</td>\n      <td>0.533333</td>\n    </tr>\n    <tr>\n      <th>1</th>\n      <td>10 Best Foods for You</td>\n      <td>This help eating healthy exercise regular basis</td>\n      <td>Positive</td>\n      <td>0.25</td>\n      <td>0.288462</td>\n    </tr>\n    <tr>\n      <th>2</th>\n      <td>10 Best Foods for You</td>\n      <td>NaN</td>\n      <td>NaN</td>\n      <td>NaN</td>\n      <td>NaN</td>\n    </tr>\n    <tr>\n      <th>3</th>\n      <td>10 Best Foods for You</td>\n      <td>Works great especially going grocery store</td>\n      <td>Positive</td>\n      <td>0.40</td>\n      <td>0.875000</td>\n    </tr>\n    <tr>\n      <th>4</th>\n      <td>10 Best Foods for You</td>\n      <td>Best idea us</td>\n      <td>Positive</td>\n      <td>1.00</td>\n      <td>0.300000</td>\n    </tr>\n  </tbody>\n</table>\n</div>"
     },
     "metadata": {},
     "execution_count": 55
    }
   ],
   "source": [
    "#Print top 5 values\n",
    "df.head()"
   ]
  },
  {
   "cell_type": "code",
   "execution_count": 56,
   "metadata": {},
   "outputs": [
    {
     "output_type": "execute_result",
     "data": {
      "text/plain": [
       "(64295, 5)"
      ]
     },
     "metadata": {},
     "execution_count": 56
    }
   ],
   "source": [
    "#Printing Shape of dataframe\n",
    "df.shape"
   ]
  },
  {
   "cell_type": "code",
   "execution_count": 57,
   "metadata": {},
   "outputs": [],
   "source": [
    "#Converting Sentiment_Polarity values into numeric\n",
    "df.Sentiment_Polarity = df.Sentiment_Polarity.apply(pd.to_numeric, errors='coerce')"
   ]
  },
  {
   "cell_type": "code",
   "execution_count": 58,
   "metadata": {},
   "outputs": [
    {
     "output_type": "execute_result",
     "data": {
      "text/plain": [
       "                     App                                  Translated_Review  \\\n",
       "0  10 Best Foods for You  I like eat delicious food. That's I'm cooking ...   \n",
       "1  10 Best Foods for You    This help eating healthy exercise regular basis   \n",
       "3  10 Best Foods for You         Works great especially going grocery store   \n",
       "4  10 Best Foods for You                                       Best idea us   \n",
       "5  10 Best Foods for You                                           Best way   \n",
       "\n",
       "  Sentiment  Sentiment_Polarity  Sentiment_Subjectivity  \n",
       "0  Positive                1.00                0.533333  \n",
       "1  Positive                0.25                0.288462  \n",
       "3  Positive                0.40                0.875000  \n",
       "4  Positive                1.00                0.300000  \n",
       "5  Positive                1.00                0.300000  "
      ],
      "text/html": "<div>\n<style scoped>\n    .dataframe tbody tr th:only-of-type {\n        vertical-align: middle;\n    }\n\n    .dataframe tbody tr th {\n        vertical-align: top;\n    }\n\n    .dataframe thead th {\n        text-align: right;\n    }\n</style>\n<table border=\"1\" class=\"dataframe\">\n  <thead>\n    <tr style=\"text-align: right;\">\n      <th></th>\n      <th>App</th>\n      <th>Translated_Review</th>\n      <th>Sentiment</th>\n      <th>Sentiment_Polarity</th>\n      <th>Sentiment_Subjectivity</th>\n    </tr>\n  </thead>\n  <tbody>\n    <tr>\n      <th>0</th>\n      <td>10 Best Foods for You</td>\n      <td>I like eat delicious food. That's I'm cooking ...</td>\n      <td>Positive</td>\n      <td>1.00</td>\n      <td>0.533333</td>\n    </tr>\n    <tr>\n      <th>1</th>\n      <td>10 Best Foods for You</td>\n      <td>This help eating healthy exercise regular basis</td>\n      <td>Positive</td>\n      <td>0.25</td>\n      <td>0.288462</td>\n    </tr>\n    <tr>\n      <th>3</th>\n      <td>10 Best Foods for You</td>\n      <td>Works great especially going grocery store</td>\n      <td>Positive</td>\n      <td>0.40</td>\n      <td>0.875000</td>\n    </tr>\n    <tr>\n      <th>4</th>\n      <td>10 Best Foods for You</td>\n      <td>Best idea us</td>\n      <td>Positive</td>\n      <td>1.00</td>\n      <td>0.300000</td>\n    </tr>\n    <tr>\n      <th>5</th>\n      <td>10 Best Foods for You</td>\n      <td>Best way</td>\n      <td>Positive</td>\n      <td>1.00</td>\n      <td>0.300000</td>\n    </tr>\n  </tbody>\n</table>\n</div>"
     },
     "metadata": {},
     "execution_count": 58
    }
   ],
   "source": [
    "#Dropping Rows where sentiment is nan\n",
    "df = df.dropna()\n",
    "df.head()"
   ]
  },
  {
   "cell_type": "code",
   "execution_count": 59,
   "metadata": {},
   "outputs": [
    {
     "output_type": "execute_result",
     "data": {
      "text/plain": [
       "(37427, 5)"
      ]
     },
     "metadata": {},
     "execution_count": 59
    }
   ],
   "source": [
    "#printing new shape of the dataframe\n",
    "df.shape"
   ]
  },
  {
   "cell_type": "code",
   "execution_count": 60,
   "metadata": {},
   "outputs": [
    {
     "output_type": "execute_result",
     "data": {
      "text/plain": [
       "                     App                                  Translated_Review  \\\n",
       "0  10 Best Foods for You  I like eat delicious food. That's I'm cooking ...   \n",
       "1  10 Best Foods for You    This help eating healthy exercise regular basis   \n",
       "2  10 Best Foods for You         Works great especially going grocery store   \n",
       "3  10 Best Foods for You                                       Best idea us   \n",
       "4  10 Best Foods for You                                           Best way   \n",
       "\n",
       "  Sentiment  Sentiment_Polarity  Sentiment_Subjectivity  \n",
       "0  Positive                1.00                0.533333  \n",
       "1  Positive                0.25                0.288462  \n",
       "2  Positive                0.40                0.875000  \n",
       "3  Positive                1.00                0.300000  \n",
       "4  Positive                1.00                0.300000  "
      ],
      "text/html": "<div>\n<style scoped>\n    .dataframe tbody tr th:only-of-type {\n        vertical-align: middle;\n    }\n\n    .dataframe tbody tr th {\n        vertical-align: top;\n    }\n\n    .dataframe thead th {\n        text-align: right;\n    }\n</style>\n<table border=\"1\" class=\"dataframe\">\n  <thead>\n    <tr style=\"text-align: right;\">\n      <th></th>\n      <th>App</th>\n      <th>Translated_Review</th>\n      <th>Sentiment</th>\n      <th>Sentiment_Polarity</th>\n      <th>Sentiment_Subjectivity</th>\n    </tr>\n  </thead>\n  <tbody>\n    <tr>\n      <th>0</th>\n      <td>10 Best Foods for You</td>\n      <td>I like eat delicious food. That's I'm cooking ...</td>\n      <td>Positive</td>\n      <td>1.00</td>\n      <td>0.533333</td>\n    </tr>\n    <tr>\n      <th>1</th>\n      <td>10 Best Foods for You</td>\n      <td>This help eating healthy exercise regular basis</td>\n      <td>Positive</td>\n      <td>0.25</td>\n      <td>0.288462</td>\n    </tr>\n    <tr>\n      <th>2</th>\n      <td>10 Best Foods for You</td>\n      <td>Works great especially going grocery store</td>\n      <td>Positive</td>\n      <td>0.40</td>\n      <td>0.875000</td>\n    </tr>\n    <tr>\n      <th>3</th>\n      <td>10 Best Foods for You</td>\n      <td>Best idea us</td>\n      <td>Positive</td>\n      <td>1.00</td>\n      <td>0.300000</td>\n    </tr>\n    <tr>\n      <th>4</th>\n      <td>10 Best Foods for You</td>\n      <td>Best way</td>\n      <td>Positive</td>\n      <td>1.00</td>\n      <td>0.300000</td>\n    </tr>\n  </tbody>\n</table>\n</div>"
     },
     "metadata": {},
     "execution_count": 60
    }
   ],
   "source": [
    "#Resetting the indices of dataframe\n",
    "df.reset_index(inplace=True)\n",
    "df.drop('index',axis=1, inplace=True)\n",
    "df.head()"
   ]
  },
  {
   "cell_type": "code",
   "execution_count": 70,
   "metadata": {},
   "outputs": [
    {
     "output_type": "stream",
     "name": "stdout",
     "text": [
      "Collecting textblob\n",
      "  Downloading textblob-0.15.3-py2.py3-none-any.whl (636 kB)\n",
      "Collecting nltk>=3.1\n",
      "  Downloading nltk-3.5.zip (1.4 MB)\n",
      "Requirement already satisfied: click in c:\\users\\nyn\\appdata\\local\\programs\\python\\python38-32\\lib\\site-packages (from nltk>=3.1->textblob) (7.1.2)\n",
      "Collecting joblib\n",
      "  Downloading joblib-0.17.0-py3-none-any.whl (301 kB)\n",
      "Collecting regex\n",
      "  Downloading regex-2020.10.15-cp38-cp38-win32.whl (252 kB)\n",
      "Collecting tqdm\n",
      "  Downloading tqdm-4.50.2-py2.py3-none-any.whl (70 kB)\n",
      "Using legacy setup.py install for nltk, since package 'wheel' is not installed.Note: you may need to restart the kernel to use updated packages.\n",
      "WARNING: You are using pip version 20.1.1; however, version 20.2.4 is available.\n",
      "You should consider upgrading via the 'C:\\Users\\NYN\\AppData\\Local\\Programs\\Python\\Python38-32\\python.exe -m pip install --upgrade pip' command.\n",
      "\n",
      "Installing collected packages: joblib, regex, tqdm, nltk, textblob\n",
      "    Running setup.py install for nltk: started\n",
      "    Running setup.py install for nltk: finished with status 'done'\n",
      "Successfully installed joblib-0.17.0 nltk-3.5 regex-2020.10.15 textblob-0.15.3 tqdm-4.50.2\n"
     ]
    }
   ],
   "source": [
    "#installing textblob for calculating sentiment scores\n",
    "%pip install textblob"
   ]
  },
  {
   "cell_type": "code",
   "execution_count": 73,
   "metadata": {},
   "outputs": [],
   "source": [
    "#Defining function senti to calculate sentiment scores using textblob function\n",
    "from textblob import TextBlob\n",
    "def senti(x):\n",
    "    return TextBlob(x).sentiment"
   ]
  },
  {
   "cell_type": "code",
   "execution_count": 74,
   "metadata": {},
   "outputs": [
    {
     "output_type": "execute_result",
     "data": {
      "text/plain": [
       "0                         (1.0, 0.5333333333333333)\n",
       "1                       (0.25, 0.28846153846153844)\n",
       "2                                      (0.4, 0.875)\n",
       "3                                        (1.0, 0.3)\n",
       "4                                        (1.0, 0.3)\n",
       "                            ...                    \n",
       "37422    (0.17333333333333328, 0.48666666666666664)\n",
       "37423                   (0.225, 0.4472222222222222)\n",
       "37424                               (-0.2875, 0.25)\n",
       "37425                                    (0.8, 1.0)\n",
       "37426                   (-0.31666666666666665, 0.4)\n",
       "Name: Translated_Review, Length: 37427, dtype: object"
      ]
     },
     "metadata": {},
     "execution_count": 74
    }
   ],
   "source": [
    "#Putting sentiment scores into df_temp by calling senti function for each value of Reviews\n",
    "df_temp = df.Translated_Review.apply(lambda x: senti(x))\n",
    "df_temp"
   ]
  },
  {
   "cell_type": "code",
   "execution_count": 76,
   "metadata": {},
   "outputs": [
    {
     "output_type": "stream",
     "name": "stderr",
     "text": [
      "[nltk_data] Downloading package vader_lexicon to\n[nltk_data]     C:\\Users\\NYN\\AppData\\Roaming\\nltk_data...\n"
     ]
    },
    {
     "output_type": "execute_result",
     "data": {
      "text/plain": [
       "True"
      ]
     },
     "metadata": {},
     "execution_count": 76
    }
   ],
   "source": [
    "#Importing nltk for vader function for calculating sentiment scores\n",
    "import nltk\n",
    "nltk.download('vader_lexicon')"
   ]
  },
  {
   "cell_type": "code",
   "execution_count": 77,
   "metadata": {},
   "outputs": [],
   "source": [
    "#Importing necessary instance of function and defining senti1 which gives sentiment scores using vader function\n",
    "from nltk.sentiment.vader import SentimentIntensityAnalyzer\n",
    "sid = SentimentIntensityAnalyzer()\n",
    "def senti1(x):\n",
    "    return sid.polarity_scores(x)"
   ]
  },
  {
   "cell_type": "code",
   "execution_count": 80,
   "metadata": {},
   "outputs": [],
   "source": [
    "#Calling vader function for each values of reviews and storing it is dataframe\n",
    "df_temp2 = df.Translated_Review.apply(lambda x: senti1(x))\n"
   ]
  },
  {
   "cell_type": "code",
   "execution_count": 92,
   "metadata": {
    "tags": []
   },
   "outputs": [],
   "source": [
    "#Creating an array which stores the sentiment according to the sentiment scores\n",
    "senti_pred = []\n",
    "for i in range(0,len(df_temp2)):\n",
    "    if(df_temp2[i]['compound']>0):\n",
    "        senti_pred.append('Positive')\n",
    "    elif(df_temp2[i]['compound']<0):\n",
    "        senti_pred.append('Negative')\n",
    "    else:\n",
    "        senti_pred.append('Neutral')"
   ]
  },
  {
   "cell_type": "code",
   "execution_count": 95,
   "metadata": {},
   "outputs": [
    {
     "output_type": "stream",
     "name": "stdout",
     "text": [
      "Collecting sklearnNote: you may need to restart the kernel to use updated packages.\n",
      "  Downloading sklearn-0.0.tar.gz (1.1 kB)\n",
      "Collecting scikit-learn\n",
      "  Downloading scikit_learn-0.23.2-cp38-cp38-win32.whl (6.0 MB)\n",
      "Collecting threadpoolctl>=2.0.0\n",
      "  Downloading threadpoolctl-2.1.0-py3-none-any.whl (12 kB)\n",
      "Requirement already satisfied: scipy>=0.19.1 in c:\\users\\nyn\\appdata\\local\\programs\\python\\python38-32\\lib\\site-packages (from scikit-learn->sklearn) (1.5.2)\n",
      "Requirement already satisfied: joblib>=0.11 in c:\\users\\nyn\\appdata\\local\\programs\\python\\python38-32\\lib\\site-packages (from scikit-learn->sklearn) (0.17.0)\n",
      "Requirement already satisfied: numpy>=1.13.3 in c:\\users\\nyn\\appdata\\local\\programs\\python\\python38-32\\lib\\site-packages (from scikit-learn->sklearn) (1.19.1)\n",
      "Using legacy setup.py install for sklearn, since package 'wheel' is not installed.\n",
      "Installing collected packages: threadpoolctl, scikit-learn, sklearn\n",
      "    Running setup.py install for sklearn: started\n",
      "\n",
      "WARNING: You are using pip version 20.1.1; however, version 20.2.4 is available.\n",
      "You should consider upgrading via the 'C:\\Users\\NYN\\AppData\\Local\\Programs\\Python\\Python38-32\\python.exe -m pip install --upgrade pip' command.\n",
      "    Running setup.py install for sklearn: finished with status 'done'\n",
      "Successfully installed scikit-learn-0.23.2 sklearn-0.0 threadpoolctl-2.1.0\n"
     ]
    }
   ],
   "source": [
    "#installing sklearn\n",
    "%pip install sklearn"
   ]
  },
  {
   "cell_type": "code",
   "execution_count": 96,
   "metadata": {},
   "outputs": [],
   "source": [
    "#Importing accuracy score function\n",
    "from sklearn.metrics import accuracy_score"
   ]
  },
  {
   "cell_type": "code",
   "execution_count": 97,
   "metadata": {},
   "outputs": [
    {
     "output_type": "execute_result",
     "data": {
      "text/plain": [
       "0.7623373500414139"
      ]
     },
     "metadata": {},
     "execution_count": 97
    }
   ],
   "source": [
    "#Finding accuracy score between predicted sentiment and original sentiment\n",
    "accuracy_score(senti_pred,df['Sentiment'])"
   ]
  }
 ]
}